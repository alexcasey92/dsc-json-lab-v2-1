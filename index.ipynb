{
 "cells": [
  {
   "cell_type": "markdown",
   "metadata": {},
   "source": [
    "# JSON - Lab"
   ]
  },
  {
   "cell_type": "markdown",
   "metadata": {},
   "source": [
    "## Introduction\n",
    "\n",
    "In this lab, you'll practice navigating JSON data structures."
   ]
  },
  {
   "cell_type": "markdown",
   "metadata": {},
   "source": [
    "## Objectives\n",
    "\n",
    "You will be able to:\n",
    "\n",
    "* Practice using Python to load and parse JSON documents"
   ]
  },
  {
   "cell_type": "markdown",
   "metadata": {},
   "source": [
    "## Your Task: Find the Total Payments for Each Candidate\n",
    "\n",
    "We will be using the same dataset, `nyc_2001_campaign_finance.json`, as in the previous lesson. Recall that the description is:\n",
    "\n",
    "> A listing of public funds payments for candidates for City office during the 2001 election cycle\n",
    "\n",
    "For added context, the Ciy of New York provides matching funds for eligible contributions made to candidates, using various ratios depending on the contribution amount ([more details here](https://en.wikipedia.org/wiki/New_York_City_Campaign_Finance_Board#The_Campaign_Finance_Program)). So these are not the complete values of all funds raised by these candidates, they are the amounts matched by the city. For that reason we expect that some of the values will be identical for different candidates.\n",
    "\n",
    "Recall also that the dataset is separated into `meta`, which contains metadata, and `data`, which contains the actual campaign finance records. You will need to use the information in `meta` to understand how to interpret the information in `data`.\n",
    "\n",
    "Your goal is to create a list of tuples, where the first value in each tuple is the name of a candidate in the 2001 election, and the second value is the total payments they received. The structure should look like this:\n",
    "\n",
    "```python\n",
    "[\n",
    "    (\"John Smith\", 62184.00),\n",
    "    (\"Jane Doe\", 133146.00),\n",
    "    ...\n",
    "]\n",
    "```\n",
    "\n",
    "The list should contain 284 tuples, since there were 284 candidates."
   ]
  },
  {
   "cell_type": "markdown",
   "metadata": {},
   "source": [
    "## Open the Dataset\n",
    "\n",
    "Import the `json` module, open the `nyc_2001_campaign_finance.json` file using the built-in Python `open` function, and load all of the data from the file into a Python object using `json.load`.\n",
    "\n",
    "Assign the result of `json.load` to the variable name `data`."
   ]
  },
  {
   "cell_type": "code",
   "execution_count": 18,
   "metadata": {},
   "outputs": [],
   "source": [
    "# Your code here\n",
    "import json\n",
    "\n",
    "with open('nyc_2001_campaign_finance.json') as f:\n",
    "    data = json.load(f)"
   ]
  },
  {
   "cell_type": "markdown",
   "metadata": {},
   "source": [
    "Recall the overall structure of this dataset:"
   ]
  },
  {
   "cell_type": "code",
   "execution_count": 19,
   "metadata": {},
   "outputs": [
    {
     "name": "stdout",
     "output_type": "stream",
     "text": [
      "The overall data type is <class 'dict'>\n",
      "The keys are ['meta', 'data']\n",
      "\n",
      "The value associated with the 'meta' key has metadata, including all of these attributes:\n",
      "['id', 'name', 'attribution', 'averageRating', 'category', 'createdAt', 'description', 'displayType', 'downloadCount', 'hideFromCatalog', 'hideFromDataJson', 'indexUpdatedAt', 'newBackend', 'numberOfComments', 'oid', 'provenance', 'publicationAppendEnabled', 'publicationDate', 'publicationGroup', 'publicationStage', 'rowClass', 'rowsUpdatedAt', 'rowsUpdatedBy', 'tableId', 'totalTimesRated', 'viewCount', 'viewLastModified', 'viewType', 'columns', 'grants', 'metadata', 'owner', 'query', 'rights', 'tableAuthor', 'tags', 'flags']\n",
      "\n",
      "The value associated with the 'data' key is a list of 285 records\n"
     ]
    }
   ],
   "source": [
    "# Run this cell without changes\n",
    "\n",
    "print(f\"The overall data type is {type(data)}\")\n",
    "print(f\"The keys are {list(data.keys())}\")\n",
    "print()\n",
    "print(\"The value associated with the 'meta' key has metadata, including all of these attributes:\")\n",
    "print(list(data['meta']['view'].keys()))\n",
    "print()\n",
    "print(f\"The value associated with the 'data' key is a list of {len(data['data'])} records\")"
   ]
  },
  {
   "cell_type": "markdown",
   "metadata": {},
   "source": [
    "## Find the Column Names\n",
    "\n",
    "We know that each record in the data list looks something like this:"
   ]
  },
  {
   "cell_type": "code",
   "execution_count": 20,
   "metadata": {},
   "outputs": [
    {
     "data": {
      "text/plain": [
       "[2,\n",
       " '9D257416-581A-4C42-85CC-B6EAD9DED97F',\n",
       " 2,\n",
       " 1315925633,\n",
       " '392904',\n",
       " 1315925633,\n",
       " '392904',\n",
       " '{\\n}',\n",
       " '2001',\n",
       " 'B4',\n",
       " 'Aboulafia, Sandy',\n",
       " '5',\n",
       " None,\n",
       " '44',\n",
       " 'P',\n",
       " '45410.00',\n",
       " '0',\n",
       " '0',\n",
       " '45410.00']"
      ]
     },
     "execution_count": 20,
     "metadata": {},
     "output_type": "execute_result"
    }
   ],
   "source": [
    "# Run this cell without changes\n",
    "data['data'][1]"
   ]
  },
  {
   "cell_type": "markdown",
   "metadata": {},
   "source": [
    "We could probably guess which of those values is the candidate name, but it's unclear which value is the total payments received. To get that information, we need to look at the metadata.\n",
    "\n",
    "Investigate the value of `data['meta']['view']['columns']`. It currently contains significantly more information than we need. Extract just the values associated with the `name` keys, so we have a list of the column names.\n",
    "\n",
    "The result should look something like this:\n",
    "\n",
    "```python\n",
    "[\n",
    "    \"sid\",\n",
    "    \"id\",\n",
    "    \"position\",\n",
    "    ...\n",
    "]\n",
    "```\n",
    "\n",
    "Name this variable `column_names`."
   ]
  },
  {
   "cell_type": "code",
   "execution_count": 21,
   "metadata": {},
   "outputs": [
    {
     "data": {
      "text/plain": [
       "list"
      ]
     },
     "execution_count": 21,
     "metadata": {},
     "output_type": "execute_result"
    }
   ],
   "source": [
    "# Your code here (create more cells as needed)\n",
    "column_data = data['meta']['view']['columns']\n",
    "type(column_data)"
   ]
  },
  {
   "cell_type": "code",
   "execution_count": 22,
   "metadata": {},
   "outputs": [
    {
     "data": {
      "text/plain": [
       "[{'id': -1,\n",
       "  'name': 'sid',\n",
       "  'dataTypeName': 'meta_data',\n",
       "  'fieldName': ':sid',\n",
       "  'position': 0,\n",
       "  'renderTypeName': 'meta_data',\n",
       "  'format': {},\n",
       "  'flags': ['hidden']},\n",
       " {'id': -1,\n",
       "  'name': 'id',\n",
       "  'dataTypeName': 'meta_data',\n",
       "  'fieldName': ':id',\n",
       "  'position': 0,\n",
       "  'renderTypeName': 'meta_data',\n",
       "  'format': {},\n",
       "  'flags': ['hidden']},\n",
       " {'id': -1,\n",
       "  'name': 'position',\n",
       "  'dataTypeName': 'meta_data',\n",
       "  'fieldName': ':position',\n",
       "  'position': 0,\n",
       "  'renderTypeName': 'meta_data',\n",
       "  'format': {},\n",
       "  'flags': ['hidden']}]"
      ]
     },
     "execution_count": 22,
     "metadata": {},
     "output_type": "execute_result"
    }
   ],
   "source": [
    "column_data[:3]"
   ]
  },
  {
   "cell_type": "code",
   "execution_count": 8,
   "metadata": {},
   "outputs": [
    {
     "data": {
      "text/plain": [
       "['sid',\n",
       " 'id',\n",
       " 'position',\n",
       " 'created_at',\n",
       " 'created_meta',\n",
       " 'updated_at',\n",
       " 'updated_meta',\n",
       " 'meta',\n",
       " 'ELECTION',\n",
       " 'CANDID',\n",
       " 'CANDNAME',\n",
       " 'OFFICECD',\n",
       " 'OFFICEBORO',\n",
       " 'OFFICEDIST',\n",
       " 'CANCLASS',\n",
       " 'PRIMARYPAY',\n",
       " 'GENERALPAY',\n",
       " 'RUNOFFPAY',\n",
       " 'TOTALPAY']"
      ]
     },
     "execution_count": 8,
     "metadata": {},
     "output_type": "execute_result"
    }
   ],
   "source": [
    "column_names = [info['name'] for info in column_data]\n",
    "column_names"
   ]
  },
  {
   "cell_type": "code",
   "execution_count": 23,
   "metadata": {},
   "outputs": [],
   "source": [
    "# Run this cell without changes\n",
    "\n",
    "# There should be 19 names\n",
    "assert len(column_names) == 19\n",
    "# CANDNAME and TOTALPAY should be in there\n",
    "assert \"CANDNAME\" in column_names and \"TOTALPAY\" in column_names"
   ]
  },
  {
   "cell_type": "markdown",
   "metadata": {},
   "source": [
    "Ok, now we know what each of the columns represents.\n",
    "\n",
    "The columns we are looking for are called `CANDNAME` and `TOTALPAY`. Now that we have this list, we should be able to figure out which of the values in each record lines up with those column names."
   ]
  },
  {
   "cell_type": "markdown",
   "metadata": {},
   "source": [
    "## Loop Over the Records to Find the Names and Payments\n",
    "\n",
    "The data records are contained in `data['data']`. Recall that the first (`0`-th) one is more of a header and should be skipped over.\n",
    "\n",
    "Loop over the records in `data['data']` and extract the name and total payment from the city. Make sure you convert the total payment to a float, then make a tuple representing that candidate. Append the tuple to an overall list of results called `candidate_total_payments`."
   ]
  },
  {
   "cell_type": "code",
   "execution_count": 24,
   "metadata": {},
   "outputs": [
    {
     "name": "stdout",
     "output_type": "stream",
     "text": [
      "The candidate name is at index 10\n",
      "The total payment amount is at index 18\n"
     ]
    }
   ],
   "source": [
    "# Your code here (create more cells as needed)\n",
    "name_index = column_names.index(\"CANDNAME\")\n",
    "total_payments_index = column_names.index(\"TOTALPAY\")\n",
    "\n",
    "print(\"The candidate name is at index\", name_index)\n",
    "print(\"The total payment amount is at index\", total_payments_index)"
   ]
  },
  {
   "cell_type": "code",
   "execution_count": 29,
   "metadata": {},
   "outputs": [],
   "source": [
    "candidate_total_payments = []\n",
    "\n",
    "for record in data['data'][1:]:\n",
    "    name = record[name_index]\n",
    "    total_payments = float(record[total_payments_index])\n",
    "    candidate_total_payments.append((name, total_payments))"
   ]
  },
  {
   "cell_type": "code",
   "execution_count": 25,
   "metadata": {},
   "outputs": [
    {
     "ename": "NameError",
     "evalue": "name 'candidate_total_payments' is not defined",
     "output_type": "error",
     "traceback": [
      "\u001b[0;31m---------------------------------------------------------------------------\u001b[0m",
      "\u001b[0;31mNameError\u001b[0m                                 Traceback (most recent call last)",
      "\u001b[0;32m<ipython-input-25-e1737cbb89ad>\u001b[0m in \u001b[0;36m<module>\u001b[0;34m\u001b[0m\n\u001b[1;32m      2\u001b[0m \u001b[0;34m\u001b[0m\u001b[0m\n\u001b[1;32m      3\u001b[0m \u001b[0;31m# There should be 284 records\u001b[0m\u001b[0;34m\u001b[0m\u001b[0;34m\u001b[0m\u001b[0;34m\u001b[0m\u001b[0m\n\u001b[0;32m----> 4\u001b[0;31m \u001b[0;32massert\u001b[0m \u001b[0mlen\u001b[0m\u001b[0;34m(\u001b[0m\u001b[0mcandidate_total_payments\u001b[0m\u001b[0;34m)\u001b[0m \u001b[0;34m==\u001b[0m \u001b[0;36m284\u001b[0m\u001b[0;34m\u001b[0m\u001b[0;34m\u001b[0m\u001b[0m\n\u001b[0m\u001b[1;32m      5\u001b[0m \u001b[0;34m\u001b[0m\u001b[0m\n\u001b[1;32m      6\u001b[0m \u001b[0;31m# Each record should contain a tuple\u001b[0m\u001b[0;34m\u001b[0m\u001b[0;34m\u001b[0m\u001b[0;34m\u001b[0m\u001b[0m\n",
      "\u001b[0;31mNameError\u001b[0m: name 'candidate_total_payments' is not defined"
     ]
    }
   ],
   "source": [
    "# Run this cell without changes\n",
    "\n",
    "# There should be 284 records\n",
    "assert len(candidate_total_payments) == 284\n",
    "\n",
    "# Each record should contain a tuple\n",
    "assert type(candidate_total_payments[0]) == tuple\n",
    "\n",
    "# That tuple should contain a string and a number\n",
    "assert len(candidate_total_payments[0]) == 2\n",
    "assert type(candidate_total_payments[0][0]) == str\n",
    "assert type(candidate_total_payments[0][1]) == float"
   ]
  },
  {
   "cell_type": "markdown",
   "metadata": {},
   "source": [
    "Now that we have this result, we can answer questions like: *which candidates received the most total payments from the city*?"
   ]
  },
  {
   "cell_type": "code",
   "execution_count": null,
   "metadata": {},
   "outputs": [],
   "source": [
    "# Run this cell without changes\n",
    "\n",
    "# Print the top 10 candidates by total payments\n",
    "sorted(candidate_total_payments, key=lambda x: x[1], reverse=True)[:10]"
   ]
  },
  {
   "cell_type": "markdown",
   "metadata": {},
   "source": [
    "Since you found all of the column names, it is also possible to display all of the data in a nice tabular format using pandas. That code would look like this:"
   ]
  },
  {
   "cell_type": "code",
   "execution_count": null,
   "metadata": {},
   "outputs": [],
   "source": [
    "# Run this cell without changes\n",
    "\n",
    "import pandas as pd\n",
    "\n",
    "pd.DataFrame(data=data['data'][1:], columns=column_names)"
   ]
  },
  {
   "cell_type": "markdown",
   "metadata": {},
   "source": [
    "## Summary\n",
    "\n",
    "Congratulations! You've started exploring some more JSON data structures used for the web and got to practice data munging and exploring!"
   ]
  }
 ],
 "metadata": {
  "kernelspec": {
   "display_name": "Python 3",
   "language": "python",
   "name": "python3"
  },
  "language_info": {
   "codemirror_mode": {
    "name": "ipython",
    "version": 3
   },
   "file_extension": ".py",
   "mimetype": "text/x-python",
   "name": "python",
   "nbconvert_exporter": "python",
   "pygments_lexer": "ipython3",
   "version": "3.8.5"
  },
  "toc": {
   "base_numbering": 1,
   "nav_menu": {},
   "number_sections": true,
   "sideBar": true,
   "skip_h1_title": false,
   "title_cell": "Table of Contents",
   "title_sidebar": "Contents",
   "toc_cell": false,
   "toc_position": {},
   "toc_section_display": true,
   "toc_window_display": false
  }
 },
 "nbformat": 4,
 "nbformat_minor": 2
}
